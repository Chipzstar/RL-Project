{
 "cells": [
  {
   "cell_type": "markdown",
   "source": [
    "## **SET UP PYGAME ENVIRONMENT**"
   ],
   "metadata": {
    "collapsed": false
   }
  },
  {
   "cell_type": "code",
   "execution_count": 2,
   "outputs": [],
   "source": [
    "# ONLY NEED TO RUN ONCE\n",
    "import os\n",
    "#!git clone https://github.com/ntasfi/PyGame-Learning-Environment/\n",
    "# os.chdir(\"PyGame-Learning-Environment\")\n",
    "# print(f\"Current directory {os.getcwd()}\")\n",
    "# !pip install -e .\n",
    "# !pip install pygame\n",
    "# !pip install -q tensorflow\n",
    "# !pip install -q keras"
   ],
   "metadata": {
    "collapsed": false,
    "pycharm": {
     "name": "#%%\n"
    }
   }
  },
  {
   "cell_type": "markdown",
   "source": [
    "# Imports"
   ],
   "metadata": {
    "collapsed": false
   }
  },
  {
   "cell_type": "code",
   "execution_count": 3,
   "outputs": [
    {
     "name": "stdout",
     "output_type": "stream",
     "text": [
      "pygame 2.0.1 (SDL 2.0.14, Python 3.8.8)\n",
      "Hello from the pygame community. https://www.pygame.org/contribute.html\n",
      "couldn't import doomish\n",
      "Couldn't import doom\n",
      "Tensor Flow Version: 2.3.0\n",
      "Keras Version: 2.4.3\n",
      "\n",
      "Python 3.8.8 (default, Feb 24 2021, 15:54:32) [MSC v.1928 64 bit (AMD64)] Windows\n",
      "Pandas 1.2.3\n",
      "Scikit-Learn 0.24.1\n",
      "GPU is NOT AVAILABLE\n"
     ]
    }
   ],
   "source": [
    "import os\n",
    "import pickle\n",
    "import random\n",
    "import platform\n",
    "import sys\n",
    "import time, datetime\n",
    "from collections import deque\n",
    "from pprint import pprint\n",
    "\n",
    "import keras\n",
    "import numpy as np\n",
    "import pandas as pd\n",
    "import sklearn as sk\n",
    "import tensorflow as tf\n",
    "from keras import Sequential\n",
    "from keras.callbacks import TensorBoard\n",
    "from keras.layers import Dense, Dropout, Activation\n",
    "from keras.optimizers import Adam\n",
    "from kerastuner.tuners import RandomSearch\n",
    "from kerastuner.engine.hyperparameters import HyperParameters\n",
    "from ple import PLE\n",
    "from ple.games.pixelcopter import Pixelcopter\n",
    "from win32api import GetSystemMetrics\n",
    "\n",
    "print(f\"Tensor Flow Version: {tf.__version__}\")\n",
    "print(f\"Keras Version: {keras.__version__}\")\n",
    "print()\n",
    "print(f\"Python {sys.version} {platform.system()}\")\n",
    "print(f\"Pandas {pd.__version__}\")\n",
    "print(f\"Scikit-Learn {sk.__version__}\")\n",
    "gpu = len(tf.config.list_physical_devices('GPU')) > 0\n",
    "print(\"GPU is\", \"available\" if gpu else \"NOT AVAILABLE\")"
   ],
   "metadata": {
    "collapsed": false,
    "pycharm": {
     "name": "#%%\n"
    }
   }
  },
  {
   "cell_type": "markdown",
   "source": [
    "## Sets the initial window position of the game"
   ],
   "metadata": {
    "collapsed": false
   }
  },
  {
   "cell_type": "code",
   "execution_count": 3,
   "outputs": [],
   "source": [
    "WIDTH = GetSystemMetrics(0)\n",
    "HEIGHT = GetSystemMetrics(1)\n",
    "x = WIDTH - 500\n",
    "y = 200\n",
    "os.environ['SDL_VIDEO_WINDOW_POS'] = \"%d,%d\" % (x, y)"
   ],
   "metadata": {
    "collapsed": false,
    "pycharm": {
     "name": "#%%\n"
    }
   }
  },
  {
   "cell_type": "markdown",
   "source": [
    "## Tensorboard"
   ],
   "metadata": {
    "collapsed": false
   }
  },
  {
   "cell_type": "code",
   "execution_count": 30,
   "outputs": [],
   "source": [
    "# Own Tensorboard class\n",
    "class ModifiedTensorBoard(TensorBoard):\n",
    "\n",
    "    # Overriding init to set initial step and writer (we want one log file for all .fit() calls)\n",
    "    def __init__(self, **kwargs):\n",
    "        super().__init__(**kwargs)\n",
    "        self.step = 1\n",
    "        self.writer = tf.summary.create_file_writer(self.log_dir)\n",
    "        self.log_write_dir = self.log_dir\n",
    "        self._train_dir = os.path.join(self.log_dir + 'train')\n",
    "        self._val_dir = os.path.join(self.log_dir, 'validation')\n",
    "        self._should_write_train_graph = False\n",
    "\n",
    "    # Overriding this method to stop creating default log writer\n",
    "    def set_model(self, model):\n",
    "        self.model = model\n",
    "        self._train_step = self.model._train_counter\n",
    "        self._val_step = self.model._test_counter\n",
    "\n",
    "    # Overrides, saves logs with our step number\n",
    "    # (otherwise every .fit() will start writing from 0th step)\n",
    "    def on_epoch_end(self, epoch, logs=None):\n",
    "        self.update_stats(**logs)\n",
    "\n",
    "    # Overrides\n",
    "    # We train for one batch only, no need to save anything at epoch end\n",
    "    def on_batch_end(self, batch, logs=None):\n",
    "        pass\n",
    "\n",
    "    # Overrides, so won't close writer\n",
    "    def on_train_end(self, logs=None):\n",
    "        pass\n",
    "\n",
    "    # Custom method for saving own metrics\n",
    "    # Creates writer, writes custom metrics and closes writer\n",
    "    def update_stats(self, **stats):\n",
    "        with self.writer.as_default():\n",
    "            for key, value in stats.items():\n",
    "                tf.summary.scalar(key, value, step=self.step)\n",
    "                self.writer.flush()"
   ],
   "metadata": {
    "collapsed": false,
    "pycharm": {
     "name": "#%%\n"
    }
   }
  },
  {
   "cell_type": "markdown",
   "source": [
    "## DQN Agent"
   ],
   "metadata": {
    "collapsed": false
   }
  },
  {
   "cell_type": "code",
   "execution_count": 31,
   "outputs": [],
   "source": [
    "# DQN agent class\n",
    "class DQNAgent:\n",
    "    # hyper-parameters\n",
    "    LEARNING_RATE = 1e-3\n",
    "    BATCH_SIZE = 64\n",
    "    INPUT_SIZE = 7\n",
    "    OUTPUT_SIZE = 2\n",
    "    EPSILON = 1\n",
    "    DECAY_RATE = 0.005\n",
    "    MIN_EPSILON = 0.1\n",
    "    GAMMA = 0.99\n",
    "    MEMORY_SIZE = 1000\n",
    "    UPDATE_TARGET_LIMIT = 5\n",
    "    MODEL_NAME = f\"DQN model LR={LEARNING_RATE} BATCH={BATCH_SIZE} MEM_SIZE={MEMORY_SIZE}\"\n",
    "    LOAD_MODEL = keras.models.load_model(\"models/DQN model LR=0.001 BATCH=32 MEM_SIZE=500_____7.30max___-4.61avg___-6.00min__1618680833.h5\")\n",
    "\n",
    "    # based on documentation, state has 7 features\n",
    "    # output is 2 dimensions, 0 = do nothing, 1 = jump\n",
    "\n",
    "    def __init__(self, mode=\"train\"):\n",
    "        # depending on what mode the agent is in, will determine how the agent chooses actions\n",
    "        # if agent is training, EPSILON = 1 and will decay over time with epsilon probability of exploring\n",
    "        # if agent is playing (using trained model), EPSILON = 0 and only choose actions based on Q network\n",
    "        self.EPSILON = 1 if mode == \"train\" else 0\n",
    "        print(self.EPSILON)\n",
    "        # main model  # gets trained every step\n",
    "        self.model = self.create_model() if mode == \"train\" else self.LOAD_MODEL\n",
    "        print(self.model.summary())\n",
    "        print(\"Finished building baseline model..\")\n",
    "        self.action_map = {\n",
    "            0: None,\n",
    "            1: 119\n",
    "        }\n",
    "        # Target model this is what we .predict against every step\n",
    "        self.target_model = self.create_model()\n",
    "        print(\"Finished building target model..\")\n",
    "        self.target_model.set_weights(self.model.get_weights())\n",
    "\n",
    "        self.replay_memory = deque(maxlen=self.MEMORY_SIZE)\n",
    "        self.tensorboard = ModifiedTensorBoard(log_dir=f\"logs/{self.MODEL_NAME}-{int(time.time())}\")\n",
    "        self.target_update_counter = 0\n",
    "        self.rewards = []\n",
    "\n",
    "    def create_model(self):\n",
    "        model = Sequential()\n",
    "\n",
    "        model.add(Dense(32, input_shape=(self.INPUT_SIZE,), activation=\"relu\"))\n",
    "\n",
    "        model.add(Dense(64, activation=\"relu\"))\n",
    "        model.add(Dropout(0.2))\n",
    "\n",
    "        model.add(Dense(64, activation=\"relu\"))\n",
    "        model.add(Dropout(0.2))\n",
    "\n",
    "        model.add(Dense(self.OUTPUT_SIZE, activation='linear'))  # ACTION_SPACE_SIZE = how many choices (9)\n",
    "        model.compile(loss=\"mse\", optimizer=Adam(lr=self.LEARNING_RATE), metrics=['accuracy'])\n",
    "        return model\n",
    "\n",
    "    def update_replay_memory(self, state, action, reward, new_state, done):\n",
    "        self.replay_memory.append((state, action, reward, new_state, 1 - int(done)))\n",
    "        if len(self.replay_memory) > self.MEMORY_SIZE:\n",
    "            self.replay_memory.popleft()\n",
    "\n",
    "    def select_action(self, state):\n",
    "        # chose random action with probability epsilon\n",
    "        if np.random.uniform() < self.EPSILON:\n",
    "            action_index = np.random.randint(self.OUTPUT_SIZE)\n",
    "        # otherwise chose epsilon-greedy action from neural net\n",
    "        else:\n",
    "            action_index = self.get_predicted_action([state])\n",
    "        actual_action = self.action_map[action_index]\n",
    "        return action_index, actual_action\n",
    "\n",
    "    def get_qs(self, state, step):\n",
    "        return self.model.predict(np.array(state))[0]\n",
    "\n",
    "    def construct_memories(self):\n",
    "        # Get a minibatch of random samples from memory replay table\n",
    "        replay = random.sample(self.replay_memory, self.BATCH_SIZE)\n",
    "        # Get current states from minibatch, then query NN model for Q values\n",
    "        states = np.array([step[0] for step in replay])\n",
    "        Q = self.model.predict(states)\n",
    "        # Get future states from minibatch, then query NN model for Q values\n",
    "        new_states = np.array([step[3] for step in replay])\n",
    "        Q_next = self.model.predict(new_states)\n",
    "\n",
    "        X = []\n",
    "        Y = []\n",
    "\n",
    "        for index, (state, action, reward, state_, done) in enumerate(replay):\n",
    "            # If not a terminal state, get new q from future states, otherwise set it to 0\n",
    "            # almost like with Q Learning, but we use just part of equation here\n",
    "            if not done:\n",
    "                max_Q = np.amax(Q_next[index])\n",
    "                new_Q = reward + self.GAMMA * max_Q\n",
    "            else:\n",
    "                new_Q = reward\n",
    "\n",
    "            # Update the Q value for given state\n",
    "            target = Q[index]\n",
    "            target[action] = new_Q\n",
    "\n",
    "            # Append new values to training data\n",
    "            X.append(state)\n",
    "            Y.append(target)\n",
    "        return X, Y\n",
    "\n",
    "    def train(self, is_terminal, step):\n",
    "        if not os.path.isdir('models'):\n",
    "            os.makedirs('models')\n",
    "\n",
    "        # Start training only if certain number of samples is already saved\n",
    "        if len(self.replay_memory) < self.MEMORY_SIZE:\n",
    "            return\n",
    "\n",
    "        # constructs training data for training of the neural network\n",
    "        X, y = self.construct_memories()\n",
    "\n",
    "        self.model.fit(np.array(X), np.array(y), batch_size=self.BATCH_SIZE, verbose=1, shuffle=False,\n",
    "                       callbacks=[self.tensorboard] if is_terminal else None)\n",
    "\n",
    "        # Update target network counter after every episode\n",
    "        if is_terminal:\n",
    "            # self.model.fit(np.array(X), np.array(y), batch_size=self.BATCH_SIZE, verbose=1, shuffle=False, callbacks=[self.tensorboard])\n",
    "            self.target_update_counter += 1\n",
    "\n",
    "        # If counter reaches a set value, update the target network with weights of main network\n",
    "        if self.target_update_counter > self.UPDATE_TARGET_LIMIT:\n",
    "            self.target_model.set_weights(self.model.get_weights())\n",
    "            self.target_update_counter = 0\n",
    "\n",
    "    def get_predicted_action(self, sequence):\n",
    "        prediction = self.model.predict(np.array(sequence))[0]\n",
    "        print(\"Prediction\", prediction)\n",
    "        return np.argmax(prediction)"
   ],
   "metadata": {
    "collapsed": false,
    "pycharm": {
     "name": "#%%\n"
    }
   }
  },
  {
   "cell_type": "markdown",
   "source": [
    "## Train Q network using DQN algorithm"
   ],
   "metadata": {
    "collapsed": false
   }
  },
  {
   "cell_type": "code",
   "execution_count": 32,
   "outputs": [],
   "source": [
    "def start():\n",
    "    game = Pixelcopter(width=250, height=250)\n",
    "    env = PLE(game, fps=30, display_screen=True, force_fps=True)\n",
    "    env.init()\n",
    "    episode_rewards = []\n",
    "    agent = DQNAgent(\"train\")\n",
    "    num_episodes = 5000\n",
    "    interval = 100\n",
    "    print(\"State attributes\", env.getGameState().keys())\n",
    "    print(\"All actions\", env.getActionSet())\n",
    "    for episode in range(1, num_episodes + 1):\n",
    "        agent.tensorboard.step = episode\n",
    "        done = False\n",
    "        step = 1\n",
    "        total_reward = 0.0\n",
    "        # initial state\n",
    "        state = np.array(list(env.getGameState().values()))\n",
    "        print(\"State:\", state)\n",
    "        while not done:\n",
    "            if env.game_over():\n",
    "                print(\"GAME OVER!\")\n",
    "                done = True\n",
    "            action_index, action = agent.select_action(state)\n",
    "            action_string = 'jump!' if action_index == 1 else 'chill'\n",
    "            print(\"Action:\", action, action_string)\n",
    "            reward = env.act(action)\n",
    "            print(\"Reward:\", reward)\n",
    "            new_state = np.array(list(env.getGameState().values()))\n",
    "            # update total reward\n",
    "            total_reward += reward\n",
    "            # update replay memory\n",
    "            agent.update_replay_memory(state, action_index, reward, new_state, done)\n",
    "            # update q_network\n",
    "            agent.train(done, step)\n",
    "            # update current state with new state\n",
    "            state = new_state\n",
    "            # increment time step\n",
    "            step += 1\n",
    "        # Append episode rewards to list of all episode rewards\n",
    "        episode_rewards.append(total_reward)\n",
    "        can_update = episode % interval\n",
    "        print(can_update)\n",
    "        if not can_update or episode == 1:\n",
    "            average_reward = np.mean(episode_rewards[-interval:])\n",
    "            min_reward = np.min(episode_rewards[-interval:])\n",
    "            max_reward = np.max(episode_rewards[-interval:])\n",
    "            agent.tensorboard.update_stats(\n",
    "                reward_avg=average_reward,\n",
    "                reward_min=min_reward,\n",
    "                reward_max=max_reward,\n",
    "                epsilon=agent.EPSILON\n",
    "            )\n",
    "            # Save model, but only when min reward is greater or equal a set value\n",
    "            model_folder = datetime.datetime.now().strftime(\"%d-%m-%Y %H%M%S\")\n",
    "            agent.model.save(\n",
    "                f'models/{model_folder}/{agent.MODEL_NAME}__{max_reward:_>7.2f}max_{average_reward:_>7.2f}avg_{min_reward:_>7.2f}min.h5')\n",
    "        # Decay epsilon\n",
    "        if agent.EPSILON > agent.MIN_EPSILON:\n",
    "            agent.EPSILON *= agent.DECAY_RATE\n",
    "            # ensure epsilon does not subside below minimum value\n",
    "            agent.EPSILON = max(agent.MIN_EPSILON, agent.EPSILON)\n",
    "        env.reset_game()"
   ],
   "metadata": {
    "collapsed": false,
    "pycharm": {
     "name": "#%%\n"
    }
   }
  },
  {
   "cell_type": "markdown",
   "source": [
    "## Hyper-parameter Tuning"
   ],
   "metadata": {
    "collapsed": false,
    "pycharm": {
     "name": "#%% md\n"
    }
   }
  },
  {
   "cell_type": "code",
   "execution_count": 33,
   "outputs": [],
   "source": [
    "def create_model(hp):\n",
    "    model = Sequential()\n",
    "\n",
    "    model.add(Dense(units=hp.Int(\n",
    "        'input_units',\n",
    "        min_value=32,\n",
    "        max_value=64,\n",
    "        step=32\n",
    "    ), input_shape=(7,), activation=\"relu\"))\n",
    "\n",
    "    for i in range(hp.Int(\"n_layers\", 1, 3)):\n",
    "        model.add(Dense(units=hp.Int(\n",
    "            f'layer_{i}_units',\n",
    "            min_value=32,\n",
    "            max_value=128,\n",
    "            step=32\n",
    "        ), activation=\"relu\"))\n",
    "        model.add(Dropout(0.2))\n",
    "\n",
    "    model.add(Dense(2, activation='linear'))  # ACTION_SPACE_SIZE = how many choices (9)\n",
    "    model.compile(\n",
    "        loss=\"mse\",\n",
    "        optimizer=Adam(hp.Choice('learning_rate', values=[1e-2, 1e-3, 1e-4])),\n",
    "        metrics=['accuracy']\n",
    "    )\n",
    "    return model\n",
    "\n",
    "def optimize():\n",
    "    log_dir = \"/tuner_logs\"\n",
    "    tuner = RandomSearch(\n",
    "        create_model,\n",
    "        objective=\"mse\",\n",
    "        max_trials=1,\n",
    "        executions_per_trial=1,\n",
    "        directory=log_dir,\n",
    "        project_name=\"PixelCopter-DQN-Tuning\"\n",
    "    )\n",
    "\n",
    "    # tuner.search()\n",
    "\n",
    "    with open(f\"tuner_{int(time.time())}.pkl\", \"wb\") as f:\n",
    "        pickle.dump(tuner, f)"
   ],
   "metadata": {
    "collapsed": false,
    "pycharm": {
     "name": "#%%\n"
    }
   }
  },
  {
   "cell_type": "markdown",
   "source": [
    "## Play the game using trained Q network"
   ],
   "metadata": {
    "collapsed": false,
    "pycharm": {
     "name": "#%% md\n"
    }
   }
  },
  {
   "cell_type": "code",
   "execution_count": 34,
   "outputs": [],
   "source": [
    "# runs the game using best DQN model\n",
    "def play():\n",
    "    game = Pixelcopter(width=300, height=300)\n",
    "    env = PLE(game, fps=30, display_screen=True, force_fps=True)\n",
    "    env.init()\n",
    "    agent = DQNAgent(\"play\")\n",
    "    interval = 100\n",
    "    step = 0\n",
    "    # while True:\n",
    "    #     if env.game_over():\n",
    "    #         env.reset_game()\n",
    "    #         step = 0\n",
    "    #     state = np.array(list(env.getGameState().values()))\n",
    "    #     action_index, action = agent.select_action(state)\n",
    "    #     action_string = 'jump!' if action_index == 1 else 'chill'\n",
    "    #     reward = env.act(action)\n",
    "    #     new_state = np.array(list(env.getGameState().values()))\n",
    "    #\n",
    "    #     # PRINT CURRENT STATS\n",
    "    #     print(\"Current State:\", state)\n",
    "    #     print(\"Action:\", action, action_string)\n",
    "    #     print(\"Reward:\", reward)\n",
    "    #     print(\"New State:\", new_state)\n",
    "    #\n",
    "    #     state = new_state\n",
    "    #     step += 1"
   ],
   "metadata": {
    "collapsed": false,
    "pycharm": {
     "name": "#%%\n"
    }
   }
  },
  {
   "cell_type": "code",
   "execution_count": 10,
   "outputs": [
    {
     "data": {
      "text/plain": "1"
     },
     "execution_count": 10,
     "metadata": {},
     "output_type": "execute_result"
    }
   ],
   "source": [
    "start()"
   ],
   "metadata": {
    "collapsed": false,
    "pycharm": {
     "name": "#%%\n"
    }
   }
  },
  {
   "cell_type": "code",
   "execution_count": null,
   "outputs": [],
   "source": [],
   "metadata": {
    "collapsed": false,
    "pycharm": {
     "name": "#%%\n"
    }
   }
  }
 ],
 "metadata": {
  "colab": {
   "collapsed_sections": [],
   "name": "ReinforcementLearning.ipynb",
   "provenance": []
  },
  "kernelspec": {
   "name": "python3",
   "language": "python",
   "display_name": "Python 3"
  },
  "language_info": {
   "codemirror_mode": {
    "name": "ipython",
    "version": 3
   },
   "file_extension": ".py",
   "mimetype": "text/x-python",
   "name": "python",
   "nbconvert_exporter": "python",
   "pygments_lexer": "ipython3",
   "version": "3.8.8"
  }
 },
 "nbformat": 4,
 "nbformat_minor": 1
}